{
 "cells": [
  {
   "cell_type": "markdown",
   "id": "1070d1c9",
   "metadata": {},
   "source": [
    "First approach: tried to use requests + beautiful soup"
   ]
  },
  {
   "cell_type": "code",
   "execution_count": 1,
   "id": "3b5ff4d1",
   "metadata": {},
   "outputs": [],
   "source": [
    "import requests\n",
    "from bs4 import BeautifulSoup"
   ]
  },
  {
   "cell_type": "code",
   "execution_count": 2,
   "id": "8c34d1dc",
   "metadata": {},
   "outputs": [],
   "source": [
    "url_one = 'https://pubchem.ncbi.nlm.nih.gov/compound/1'\n",
    "page_one = requests.get(url_one)\n",
    "parsed_page_one = BeautifulSoup(page_one.content, \"html.parser\") "
   ]
  },
  {
   "cell_type": "markdown",
   "id": "b4263827",
   "metadata": {},
   "source": [
    "Based on inspecting the html, it seems like what I want is: div id = 'root' --> div class = 'relative flex-container-vertical' ... until div id = 'section-container' class= 'p-md-top'. But when I use the \"find()\" method, \"parsed_page_one.find(id = 'root'), it doesn't show any of the stuff that I see when I expect. When I try to find \"section-container', it returns None. So I thought \"maybe this suggests this is a dynamic website, and I will try using something else..."
   ]
  },
  {
   "cell_type": "code",
   "execution_count": 8,
   "id": "cbd5f00c",
   "metadata": {},
   "outputs": [
    {
     "name": "stdout",
     "output_type": "stream",
     "text": [
      "<div id=\"root\">\n",
      "<div class=\"loader-background\">\n",
      "<div class=\"loader\"></div>\n",
      "</div>\n",
      "</div>\n",
      "\n",
      "\n",
      "<div id=\"root\">\n",
      " <div class=\"loader-background\">\n",
      "  <div class=\"loader\">\n",
      "  </div>\n",
      " </div>\n",
      "</div>\n",
      "\n",
      "\n",
      "\n",
      "None\n",
      "\n",
      "\n"
     ]
    }
   ],
   "source": [
    "test_page_one_one = parsed_page_one.find(id =\"root\")\n",
    "test_page_one_two = parsed_page_one.find(id =\"section-container\")\n",
    "\n",
    "print(test_page_one_one)\n",
    "print('\\n')\n",
    "print(test_page_one_one.prettify())\n",
    "print('\\n')\n",
    "print(test_page_one_two)\n",
    "print('\\n')"
   ]
  },
  {
   "cell_type": "markdown",
   "id": "c364cb78",
   "metadata": {},
   "source": [
    "Second approach: Selenium . My initial approach was to follow along with this (https://towardsdatascience.com/how-to-use-selenium-to-web-scrape-with-example-80f9b23a843a) tutorial, enough that I could figure out how to scrape what I wanted from PubChem. Note that the tutorial suggests using the method \"find_elements_by_xpath\", but this has been replaced by \"find_elements\" instead"
   ]
  },
  {
   "cell_type": "code",
   "execution_count": 10,
   "id": "6979ac21",
   "metadata": {},
   "outputs": [],
   "source": [
    "from selenium import webdriver"
   ]
  },
  {
   "cell_type": "code",
   "execution_count": 23,
   "id": "d9c44639",
   "metadata": {},
   "outputs": [
    {
     "name": "stderr",
     "output_type": "stream",
     "text": [
      "C:\\Users\\jonat_od7omk3\\AppData\\Local\\Temp\\ipykernel_1748\\3153075436.py:1: DeprecationWarning: executable_path has been deprecated, please pass in a Service object\n",
      "  driver = webdriver.Chrome(executable_path='C:\\\\Users\\jonat_od7omk3\\chromedriver_win32\\chromedriver')\n"
     ]
    }
   ],
   "source": [
    "driver = webdriver.Chrome(executable_path='C:\\\\Users\\jonat_od7omk3\\chromedriver_win32\\chromedriver')"
   ]
  },
  {
   "cell_type": "code",
   "execution_count": 24,
   "id": "c307c40b",
   "metadata": {},
   "outputs": [],
   "source": [
    "driver.get('https://hoopshype.com/salaries/players/')\n",
    "test_one = driver.find_elements(\"xpath\", '//td[@class=\"name\"]')"
   ]
  },
  {
   "cell_type": "code",
   "execution_count": 29,
   "id": "8b283e1b",
   "metadata": {},
   "outputs": [
    {
     "name": "stdout",
     "output_type": "stream",
     "text": [
      "546\n",
      "PLAYER\n",
      "Stephen Curry\n",
      "John Wall\n",
      "Russell Westbrook\n",
      "LeBron James\n",
      "Kevin Durant\n",
      "Bradley Beal\n",
      "Paul George\n",
      "Kawhi Leonard\n",
      "Giannis Antetokounmpo\n"
     ]
    }
   ],
   "source": [
    "print(len(test_one))\n",
    "for p in range(10):\n",
    "    print(test_one[p].text)"
   ]
  },
  {
   "cell_type": "code",
   "execution_count": 30,
   "id": "5e60c4c2",
   "metadata": {},
   "outputs": [],
   "source": [
    "driver.quit()"
   ]
  },
  {
   "cell_type": "markdown",
   "id": "d06025b2",
   "metadata": {},
   "source": [
    "Now that I have the tutorial working, I will try to actually scrape PubChem. The first thing that I had wanted to get from each compounds respective webpage, is the title of the sections under \"contents\" (e.g. \"structures\", \"names and identifiers\", \"chemical and physical properties\" ...). It seemed like the class that encompasses each of these is \"no-hover-underline block p-sm p-md-left\", but when I try to find elements based on this class, the list returns empty.\n",
    "\n",
    "What I learned:\n",
    "\n",
    "(plus, for below: look at due dates for module 2!!!!!!!!!) + write what I told sudha I would do, in my calendar!"
   ]
  },
  {
   "cell_type": "code",
   "execution_count": 33,
   "id": "b5a76dde",
   "metadata": {},
   "outputs": [
    {
     "name": "stderr",
     "output_type": "stream",
     "text": [
      "C:\\Users\\jonat_od7omk3\\AppData\\Local\\Temp\\ipykernel_1748\\2519690814.py:1: DeprecationWarning: executable_path has been deprecated, please pass in a Service object\n",
      "  driver = webdriver.Chrome(executable_path='C:\\\\Users\\jonat_od7omk3\\chromedriver_win32\\chromedriver')\n"
     ]
    },
    {
     "name": "stdout",
     "output_type": "stream",
     "text": [
      "[]\n"
     ]
    }
   ],
   "source": [
    "driver = webdriver.Chrome(executable_path='C:\\\\Users\\jonat_od7omk3\\chromedriver_win32\\chromedriver')\n",
    "driver.get('https://pubchem.ncbi.nlm.nih.gov/compound/1')\n",
    "test_two = driver.find_elements(\"xpath\", '//td[@class=\"no-hover-underline block p-sm p-md-left\"]')\n",
    "print(test_two)\n",
    "driver.quit()"
   ]
  },
  {
   "cell_type": "code",
   "execution_count": 36,
   "id": "0ffe113f",
   "metadata": {},
   "outputs": [],
   "source": [
    "import time"
   ]
  },
  {
   "cell_type": "code",
   "execution_count": 48,
   "id": "4a4b3aa9",
   "metadata": {},
   "outputs": [
    {
     "name": "stderr",
     "output_type": "stream",
     "text": [
      "C:\\Users\\jonat_od7omk3\\AppData\\Local\\Temp\\ipykernel_1748\\4162950771.py:1: DeprecationWarning: executable_path has been deprecated, please pass in a Service object\n",
      "  driver = webdriver.Chrome(executable_path='C:\\\\Users\\jonat_od7omk3\\chromedriver_win32\\chromedriver')\n"
     ]
    },
    {
     "name": "stdout",
     "output_type": "stream",
     "text": [
      "1 Structures\n",
      "2 Names and Identifiers\n",
      "3 Chemical and Physical Properties\n",
      "4 Spectral Information\n",
      "5 Related Records\n",
      "6 Chemical Vendors\n",
      "7 Drug and Medication Information\n",
      "8 Pharmacology and Biochemistry\n",
      "9 Use and Manufacturing\n",
      "10 Literature\n",
      "11 Patents\n",
      "12 Interactions and Pathways\n",
      "13 Taxonomy\n",
      "14 Classification\n",
      "15 Information Sources\n"
     ]
    }
   ],
   "source": [
    "driver = webdriver.Chrome(executable_path='C:\\\\Users\\jonat_od7omk3\\chromedriver_win32\\chromedriver')\n",
    "driver.get('https://pubchem.ncbi.nlm.nih.gov/compound/1')\n",
    "test_three = driver.find_elements(\"xpath\", '//div[@class=\"relative p-xl-right f-gray\"]') #the \"div\" vs. \"td\" vs. ... is important!\n",
    "\n",
    "for i in range(len(test_three)):\n",
    "    print(test_three[i].text)\n",
    "\n",
    "driver.quit()\n"
   ]
  },
  {
   "cell_type": "code",
   "execution_count": 57,
   "id": "7d310acb",
   "metadata": {},
   "outputs": [
    {
     "name": "stderr",
     "output_type": "stream",
     "text": [
      "C:\\Users\\jonat_od7omk3\\AppData\\Local\\Temp\\ipykernel_1748\\732583570.py:1: DeprecationWarning: executable_path has been deprecated, please pass in a Service object\n",
      "  driver = webdriver.Chrome(executable_path='C:\\\\Users\\jonat_od7omk3\\chromedriver_win32\\chromedriver')\n"
     ]
    },
    {
     "name": "stdout",
     "output_type": "stream",
     "text": [
      "1 Structures\n",
      "2 Names and Identifiers\n",
      "3 Chemical and Physical Properties\n",
      "4 Spectral Information\n",
      "5 Related Records\n",
      "6 Chemical Vendors\n",
      "7 Drug and Medication Information\n",
      "8 Safety and Hazards\n",
      "9 Literature\n",
      "10 Patents\n",
      "11 Biological Test Results\n",
      "12 Taxonomy\n",
      "13 Classification\n",
      "14 Information Sources\n"
     ]
    }
   ],
   "source": [
    "driver = webdriver.Chrome(executable_path='C:\\\\Users\\jonat_od7omk3\\chromedriver_win32\\chromedriver')\n",
    "driver.get('https://pubchem.ncbi.nlm.nih.gov/compound/2')\n",
    "test_four = driver.find_elements(\"xpath\", '//div[@class=\"relative p-xl-right f-gray\"]') #the \"div\" vs. \"td\" vs. ... is important!\n",
    "\n",
    "for i in range(len(test_four)):\n",
    "    print(test_four[i].text)\n",
    "\n",
    "driver.quit()"
   ]
  },
  {
   "cell_type": "code",
   "execution_count": 59,
   "id": "440f7b6d",
   "metadata": {},
   "outputs": [
    {
     "name": "stderr",
     "output_type": "stream",
     "text": [
      "C:\\Users\\jonat_od7omk3\\AppData\\Local\\Temp\\ipykernel_1748\\427988111.py:1: DeprecationWarning: executable_path has been deprecated, please pass in a Service object\n",
      "  driver = webdriver.Chrome(executable_path='C:\\\\Users\\jonat_od7omk3\\chromedriver_win32\\chromedriver')\n"
     ]
    },
    {
     "name": "stdout",
     "output_type": "stream",
     "text": [
      "1 Structures\n",
      "2 Names and Identifiers\n",
      "3 Chemical and Physical Properties\n",
      "4 Spectral Information\n",
      "5 Related Records\n",
      "6 Chemical Vendors\n",
      "7 Literature\n",
      "8 Patents\n",
      "9 Taxonomy\n",
      "10 Classification\n",
      "11 Information Sources\n"
     ]
    }
   ],
   "source": [
    "driver = webdriver.Chrome(executable_path='C:\\\\Users\\jonat_od7omk3\\chromedriver_win32\\chromedriver')\n",
    "driver.get('https://pubchem.ncbi.nlm.nih.gov/compound/3')\n",
    "test_five = driver.find_elements(\"xpath\", '//div[@class=\"relative p-xl-right f-gray\"]') #the \"div\" vs. \"td\" vs. ... is important!\n",
    "\n",
    "for i in range(len(test_five)):\n",
    "    print(test_five[i].text)\n",
    "\n",
    "driver.quit()"
   ]
  },
  {
   "cell_type": "code",
   "execution_count": 63,
   "id": "f3629056",
   "metadata": {},
   "outputs": [
    {
     "name": "stderr",
     "output_type": "stream",
     "text": [
      "C:\\Users\\jonat_od7omk3\\AppData\\Local\\Temp\\ipykernel_1748\\2167354785.py:1: DeprecationWarning: executable_path has been deprecated, please pass in a Service object\n",
      "  driver = webdriver.Chrome(executable_path='C:\\\\Users\\jonat_od7omk3\\chromedriver_win32\\chromedriver')\n"
     ]
    },
    {
     "name": "stdout",
     "output_type": "stream",
     "text": [
      "19\n",
      "1 Structures\n",
      "2 Names and Identifiers\n",
      "3 Chemical and Physical Properties\n",
      "4 Spectral Information\n",
      "5 Related Records\n",
      "6 Chemical Vendors\n",
      "7 Food Additives and Ingredients\n",
      "8 Pharmacology and Biochemistry\n",
      "9 Use and Manufacturing\n",
      "10 Identification\n",
      "11 Safety and Hazards\n",
      "12 Toxicity\n",
      "13 Literature\n",
      "14 Patents\n",
      "15 Interactions and Pathways\n",
      "16 Biological Test Results\n",
      "17 Taxonomy\n",
      "18 Classification\n",
      "19 Information Sources\n"
     ]
    }
   ],
   "source": [
    "driver = webdriver.Chrome(executable_path='C:\\\\Users\\jonat_od7omk3\\chromedriver_win32\\chromedriver')\n",
    "driver.get('https://pubchem.ncbi.nlm.nih.gov/compound/4')\n",
    "test_six = driver.find_elements(\"xpath\", '//div[@class=\"relative p-xl-right f-gray\"]') #the \"div\" vs. \"td\" vs. ... is important!\n",
    "\n",
    "print(len(test_six))\n",
    "\n",
    "for i in range(len(test_six)):\n",
    "    print(test_six[i].text)\n",
    "\n",
    "driver.quit()"
   ]
  },
  {
   "cell_type": "code",
   "execution_count": 65,
   "id": "ffa7fc04",
   "metadata": {},
   "outputs": [
    {
     "name": "stderr",
     "output_type": "stream",
     "text": [
      "C:\\Users\\jonat_od7omk3\\AppData\\Local\\Temp\\ipykernel_1748\\3130378947.py:1: DeprecationWarning: executable_path has been deprecated, please pass in a Service object\n",
      "  driver = webdriver.Chrome(executable_path='C:\\\\Users\\jonat_od7omk3\\chromedriver_win32\\chromedriver')\n"
     ]
    },
    {
     "name": "stdout",
     "output_type": "stream",
     "text": [
      "12\n",
      "1 Structures\n",
      "2 Biologic Description\n",
      "3 Names and Identifiers\n",
      "4 Chemical and Physical Properties\n",
      "5 Related Records\n",
      "6 Chemical Vendors\n",
      "7 Literature\n",
      "8 Patents\n",
      "9 Interactions and Pathways\n",
      "10 Taxonomy\n",
      "11 Classification\n",
      "12 Information Sources\n"
     ]
    }
   ],
   "source": [
    "driver = webdriver.Chrome(executable_path='C:\\\\Users\\jonat_od7omk3\\chromedriver_win32\\chromedriver')\n",
    "driver.get('https://pubchem.ncbi.nlm.nih.gov/compound/5')\n",
    "test_seven = driver.find_elements(\"xpath\", '//div[@class=\"relative p-xl-right f-gray\"]') #the \"div\" vs. \"td\" vs. ... is important!\n",
    "\n",
    "print(len(test_seven))\n",
    "\n",
    "for i in range(len(test_seven)):\n",
    "    print(test_seven[i].text)\n",
    "\n",
    "driver.quit()"
   ]
  },
  {
   "cell_type": "markdown",
   "id": "6f01d681",
   "metadata": {},
   "source": [
    "The above approach seems to mostly work, except that a sizeable fraction of the time, it doesn't find anything, and returns nothing. I wonder if using \"time.sleep\" to let the webpage load, might help. Or I can just check whether the list returns empty, and then, if it does, continue querying the website until it doesn't return empty.\n",
    "\n",
    "While I am waiting for my computer to do this, figure out how to parse SELFIES or SMILES strings, to get \"max length of carbon chains\", and bond orders and stuff, and also figure out how can use K-means/hierarchical/or ARM in an interesting way on the data"
   ]
  },
  {
   "cell_type": "markdown",
   "id": "9ca485c5",
   "metadata": {},
   "source": [
    "Figuring out how long I would expect getting the sections to take"
   ]
  },
  {
   "cell_type": "code",
   "execution_count": 69,
   "id": "e4f161a7",
   "metadata": {},
   "outputs": [],
   "source": [
    "import time"
   ]
  },
  {
   "cell_type": "code",
   "execution_count": 77,
   "id": "468db8f2",
   "metadata": {},
   "outputs": [
    {
     "name": "stderr",
     "output_type": "stream",
     "text": [
      "C:\\Users\\jonat_od7omk3\\AppData\\Local\\Temp\\ipykernel_1748\\1562180328.py:5: DeprecationWarning: executable_path has been deprecated, please pass in a Service object\n",
      "  driver = webdriver.Chrome(executable_path='C:\\\\Users\\jonat_od7omk3\\chromedriver_win32\\chromedriver')\n"
     ]
    },
    {
     "name": "stdout",
     "output_type": "stream",
     "text": [
      "16.248127222061157\n"
     ]
    }
   ],
   "source": [
    "start_time = time.time()\n",
    "\n",
    "\n",
    "s_names = []\n",
    "driver = webdriver.Chrome(executable_path='C:\\\\Users\\jonat_od7omk3\\chromedriver_win32\\chromedriver')\n",
    "\n",
    "for j in range(1,10):\n",
    "    lst = []\n",
    "    \n",
    "    driver.get('https://pubchem.ncbi.nlm.nih.gov/compound/' + str(j))\n",
    "    section_names = driver.find_elements(\"xpath\", '//div[@class=\"relative p-xl-right f-gray\"]') #the \"div\" vs. \"td\" vs. ... is important!\n",
    "\n",
    "    while(len(section_names) == 0):\n",
    "        section_names = driver.find_elements(\"xpath\", '//div[@class=\"relative p-xl-right f-gray\"]') \n",
    "\n",
    "    \n",
    "    for i in range(len(section_names)):\n",
    "        lst.append(section_names[i].text)\n",
    "    \n",
    "    s_names.append(lst)\n",
    "    \n",
    "driver.quit()\n",
    "print(time.time() - start_time)        \n"
   ]
  },
  {
   "cell_type": "code",
   "execution_count": 80,
   "id": "cc16dac5",
   "metadata": {},
   "outputs": [
    {
     "name": "stdout",
     "output_type": "stream",
     "text": [
      "['1 Structures', '2 Names and Identifiers', '3 Chemical and Physical Properties', '4 Spectral Information', '5 Related Records', '6 Chemical Vendors', '7 Drug and Medication Information', '8 Pharmacology and Biochemistry', '9 Use and Manufacturing', '10 Literature', '11 Patents', '12 Interactions and Pathways', '13 Taxonomy', '14 Classification', '15 Information Sources']\n",
      "\n",
      "\n",
      "['1 Structures', '2 Names and Identifiers', '3 Chemical and Physical Properties', '4 Spectral Information', '5 Related Records', '6 Chemical Vendors', '7 Drug and Medication Information', '8 Safety and Hazards', '9 Literature', '10 Patents', '11 Biological Test Results', '12 Taxonomy', '13 Classification', '14 Information Sources']\n",
      "\n",
      "\n",
      "['1 Structures', '2 Names and Identifiers', '3 Chemical and Physical Properties', '4 Spectral Information', '5 Related Records', '6 Chemical Vendors', '7 Literature', '8 Patents', '9 Taxonomy', '10 Classification', '11 Information Sources']\n",
      "\n",
      "\n",
      "['1 Structures', '2 Names and Identifiers', '3 Chemical and Physical Properties', '4 Spectral Information', '5 Related Records', '6 Chemical Vendors', '7 Food Additives and Ingredients', '8 Pharmacology and Biochemistry', '9 Use and Manufacturing', '10 Identification', '11 Safety and Hazards', '12 Toxicity', '13 Literature', '14 Patents', '15 Interactions and Pathways', '16 Biological Test Results', '17 Taxonomy', '18 Classification', '19 Information Sources']\n",
      "\n",
      "\n",
      "['1 Structures', '2 Biologic Description', '3 Names and Identifiers', '4 Chemical and Physical Properties', '5 Related Records', '6 Chemical Vendors', '7 Literature', '8 Patents', '9 Interactions and Pathways', '10 Taxonomy', '11 Classification', '12 Information Sources']\n",
      "\n",
      "\n",
      "['1 Structures', '2 Names and Identifiers', '3 Chemical and Physical Properties', '4 Spectral Information', '5 Related Records', '6 Chemical Vendors', '7 Drug and Medication Information', '8 Pharmacology and Biochemistry', '9 Use and Manufacturing', '10 Identification', '11 Safety and Hazards', '12 Toxicity', '13 Associated Disorders and Diseases', '14 Literature', '15 Patents', '16 Interactions and Pathways', '17 Biological Test Results', '18 Classification', '19 Information Sources']\n",
      "\n",
      "\n",
      "['1 Structures', '2 Names and Identifiers', '3 Chemical and Physical Properties', '4 Spectral Information', '5 Related Records', '6 Chemical Vendors', '7 Literature', '8 Patents', '9 Interactions and Pathways', '10 Biological Test Results', '11 Classification', '12 Information Sources']\n",
      "\n",
      "\n",
      "['1 Structures', '2 Names and Identifiers', '3 Chemical and Physical Properties', '4 Related Records', '5 Chemical Vendors', '6 Use and Manufacturing', '7 Safety and Hazards', '8 Literature', '9 Patents', '10 Classification', '11 Information Sources']\n",
      "\n",
      "\n",
      "['1 Structures', '2 Names and Identifiers', '3 Chemical and Physical Properties', '4 Related Records', '5 Chemical Vendors', '6 Literature', '7 Patents', '8 Biological Test Results', '9 Taxonomy', '10 Classification', '11 Information Sources']\n",
      "\n",
      "\n"
     ]
    }
   ],
   "source": [
    "for i in range(len(s_names)):\n",
    "    print(s_names[i])\n",
    "    print('\\n')"
   ]
  }
 ],
 "metadata": {
  "kernelspec": {
   "display_name": "Python 3 (ipykernel)",
   "language": "python",
   "name": "python3"
  },
  "language_info": {
   "codemirror_mode": {
    "name": "ipython",
    "version": 3
   },
   "file_extension": ".py",
   "mimetype": "text/x-python",
   "name": "python",
   "nbconvert_exporter": "python",
   "pygments_lexer": "ipython3",
   "version": "3.9.13"
  }
 },
 "nbformat": 4,
 "nbformat_minor": 5
}
